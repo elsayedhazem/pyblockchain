{
 "cells": [
  {
   "cell_type": "markdown",
   "metadata": {},
   "source": [
    "### GreenTrace Demo"
   ]
  },
  {
   "cell_type": "markdown",
   "metadata": {},
   "source": [
    "This is an example of a series of events, pushed to the events pool by an entity which participates in the GreenTrace Project, waiting to be mined"
   ]
  },
  {
   "cell_type": "code",
   "execution_count": 27,
   "metadata": {},
   "outputs": [],
   "source": [
    "events =  {\n",
    "        \"event1\": {\n",
    "            \"type\": \"new_material\",\n",
    "            \"material_id\": \"uuid-material-1234\",\n",
    "            \"material_reference\": \"http://example.com/materials/aluminum-cans-info\"\n",
    "        },\n",
    "        \"event2\": {\n",
    "            \"type\": \"new_entity\",\n",
    "            \"entity_id\": \"uuid-entity-5678\",\n",
    "            \"entity_reference\": \"Aluminum Recycling Co., 123 Recycle Rd., Eco City\"\n",
    "        },\n",
    "        \"event3\": {\n",
    "            \"type\": \"new_process\",\n",
    "            \"process_id\": \"uuid-process-9012\",\n",
    "            \"process_reference\": \"Transforming aluminum cans into aluminum sheets\"\n",
    "        },\n",
    "        \"event4\": {\n",
    "            \"type\": \"checkpoint\",\n",
    "            \"checkpoint_id\": \"uuid-checkpoint-3456\",\n",
    "            \"original_product_upc\": \"012345678912\",\n",
    "            \"quantity\": 5000,\n",
    "            \"item_ref\": None,\n",
    "            \"process_ids\": [\"uuid-process-9012\"],\n",
    "            \"material_out_id\": \"uuid-material-out-7890\",\n",
    "            \"origin_checkpoint\": \"uuid-origin-1122\",\n",
    "            \"destination_checkpoint\": \"uuid-destination-3344\",\n",
    "            \"entity_id\": \"uuid-entity-5678\",\n",
    "            \"timestamp_in\": \"2023-11-29T10:00:00Z\",\n",
    "            \"timestamp_out\": \"2023-11-29T16:00:00Z\"\n",
    "        }\n",
    "}"
   ]
  },
  {
   "cell_type": "code",
   "execution_count": 28,
   "metadata": {},
   "outputs": [],
   "source": [
    "from fastapi.testclient import TestClient\n",
    "\n",
    "from app import app\n",
    "import json\n",
    "\n",
    "client = TestClient(app)"
   ]
  },
  {
   "cell_type": "code",
   "execution_count": 29,
   "metadata": {},
   "outputs": [
    {
     "data": {
      "text/plain": [
       "{}"
      ]
     },
     "execution_count": 29,
     "metadata": {},
     "output_type": "execute_result"
    }
   ],
   "source": [
    "response = client.post(\"/events\", json={\n",
    "\t\"events\": events\n",
    "})\n",
    "\n",
    "response = client.get(\"/transactions\")\n",
    "response.json()[\"transactions\"]"
   ]
  },
  {
   "cell_type": "markdown",
   "metadata": {},
   "source": [
    "We store our chain in the chain.json file. The API represents the consensus of the network. And a miner (GreenTrace Vendor) gets the chain, adds a block, and send back a new chain which the API will validate."
   ]
  },
  {
   "cell_type": "code",
   "execution_count": 30,
   "metadata": {},
   "outputs": [
    {
     "data": {
      "text/plain": [
       "{'chain': [{'id': 0,\n",
       "   'previous_hash': '0',\n",
       "   'nonce': 67170,\n",
       "   'timestamp': 1699427804.6617067,\n",
       "   'data': ['Genesis block.'],\n",
       "   'hash': '000005163dbcbd434f5c0c055a2a874a4f2e7c3dcd3f4df8dad07e80b13445bc'}]}"
      ]
     },
     "execution_count": 30,
     "metadata": {},
     "output_type": "execute_result"
    }
   ],
   "source": [
    "client.get(\"/chain\").json()"
   ]
  },
  {
   "cell_type": "code",
   "execution_count": null,
   "metadata": {},
   "outputs": [],
   "source": [
    "from chain import Blockchain\n",
    "from miner import Miner\n",
    "\n",
    "chain = Blockchain(\"chain.json\")\n",
    "\n",
    "miner=Miner(wallet_id=\"12345\")"
   ]
  },
  {
   "cell_type": "markdown",
   "metadata": {},
   "source": [
    "The miner now adds a new block to the chain, with 5 leading zeros at its hash"
   ]
  },
  {
   "cell_type": "code",
   "execution_count": 33,
   "metadata": {},
   "outputs": [
    {
     "data": {
      "text/plain": [
       "<Response [200 OK]>"
      ]
     },
     "execution_count": 33,
     "metadata": {},
     "output_type": "execute_result"
    }
   ],
   "source": [
    "\n",
    "chain = Blockchain(\"chain.json\")\n",
    "miner.mine(transaction_pool=events, blockchain=chain, difficulty=5)\n",
    "json={\n",
    "\t\"chain\": chain.as_dict_list()\n",
    "}\n",
    "\n",
    "\n",
    "response = client.post(\"/chain\", json=json)\n",
    "response"
   ]
  },
  {
   "cell_type": "markdown",
   "metadata": {},
   "source": [
    "Network accepts new GreenTrace chain"
   ]
  },
  {
   "cell_type": "code",
   "execution_count": 34,
   "metadata": {},
   "outputs": [
    {
     "data": {
      "text/plain": [
       "{'chain': [{'id': 0,\n",
       "   'previous_hash': '0',\n",
       "   'nonce': 67170,\n",
       "   'timestamp': 1699427804.6617067,\n",
       "   'data': ['Genesis block.'],\n",
       "   'hash': '000005163dbcbd434f5c0c055a2a874a4f2e7c3dcd3f4df8dad07e80b13445bc'},\n",
       "  {'id': 1,\n",
       "   'previous_hash': '000005163dbcbd434f5c0c055a2a874a4f2e7c3dcd3f4df8dad07e80b13445bc',\n",
       "   'nonce': 1632558,\n",
       "   'timestamp': 1701276541.1848588,\n",
       "   'data': {'event1': {'type': 'new_material',\n",
       "     'material_id': 'uuid-material-1234',\n",
       "     'material_reference': 'http://example.com/materials/aluminum-cans-info'},\n",
       "    'event2': {'type': 'new_entity',\n",
       "     'entity_id': 'uuid-entity-5678',\n",
       "     'entity_reference': 'Aluminum Recycling Co., 123 Recycle Rd., Eco City'},\n",
       "    'event3': {'type': 'new_process',\n",
       "     'process_id': 'uuid-process-9012',\n",
       "     'process_reference': 'Transforming aluminum cans into aluminum sheets'},\n",
       "    'event4': {'type': 'checkpoint',\n",
       "     'checkpoint_id': 'uuid-checkpoint-3456',\n",
       "     'original_product_upc': '012345678912',\n",
       "     'quantity': 5000,\n",
       "     'item_ref': None,\n",
       "     'process_ids': ['uuid-process-9012'],\n",
       "     'material_out_id': 'uuid-material-out-7890',\n",
       "     'origin_checkpoint': 'uuid-origin-1122',\n",
       "     'destination_checkpoint': 'uuid-destination-3344',\n",
       "     'entity_id': 'uuid-entity-5678',\n",
       "     'timestamp_in': '2023-11-29T10:00:00Z',\n",
       "     'timestamp_out': '2023-11-29T16:00:00Z'}},\n",
       "   'hash': '00000f3f0a48c4e53d87d70638c59171efaa5370701bb457b847751619b64352'}]}"
      ]
     },
     "execution_count": 34,
     "metadata": {},
     "output_type": "execute_result"
    }
   ],
   "source": [
    "client.get(\"/chain\").json()"
   ]
  }
 ],
 "metadata": {
  "kernelspec": {
   "display_name": "Python 3",
   "language": "python",
   "name": "python3"
  },
  "language_info": {
   "codemirror_mode": {
    "name": "ipython",
    "version": 3
   },
   "file_extension": ".py",
   "mimetype": "text/x-python",
   "name": "python",
   "nbconvert_exporter": "python",
   "pygments_lexer": "ipython3",
   "version": "3.11.6"
  }
 },
 "nbformat": 4,
 "nbformat_minor": 2
}
